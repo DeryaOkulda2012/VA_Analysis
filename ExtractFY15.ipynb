{
 "cells": [
  {
   "cell_type": "code",
   "execution_count": 1,
   "id": "341bb8b8",
   "metadata": {},
   "outputs": [],
   "source": [
    "import pandas as pd"
   ]
  },
  {
   "cell_type": "code",
   "execution_count": 2,
   "id": "fc3f37d8",
   "metadata": {},
   "outputs": [],
   "source": [
    "from sqlalchemy import create_engine\n",
    "from sqlalchemy.ext.declarative import declarative_base\n",
    "from sqlalchemy import Table, Column, Integer, String"
   ]
  },
  {
   "cell_type": "code",
   "execution_count": 3,
   "id": "e7c07023",
   "metadata": {},
   "outputs": [],
   "source": [
    "import sqlite3\n",
    "import os\n",
    "from sqlalchemy import MetaData\n",
    "from sqlalchemy.orm import mapper"
   ]
  },
  {
   "cell_type": "code",
   "execution_count": 4,
   "id": "cf386d85",
   "metadata": {},
   "outputs": [
    {
     "name": "stdout",
     "output_type": "stream",
     "text": [
      "Annual_Expenditures/GDX_FY15.xlsx\n",
      "['State Level Expenditures', 'AK', 'AL', 'AR', 'AZ', 'CA', 'CO', 'CT', 'DC', 'DE', 'FL', 'GA', 'HI', 'IA', 'ID', 'IL', 'IN', 'KS', 'KY', 'LA', 'MA', 'MD', 'ME', 'MI', 'MN', 'MO', 'MS', 'MT', 'NC', 'ND', 'NE', 'NH', 'NJ', 'NM', 'NV', 'NY', 'OH', 'OK', 'OR', 'PA', 'RI', 'SC', 'SD', 'TN', 'TX', 'UT', 'VA', 'VT', 'WA', 'WI', 'WV', 'WY', 'PR', 'GU', 'Data Description']\n"
     ]
    }
   ],
   "source": [
    "#set the file name to read the excel sheets\n",
    "xls_file_name='Annual_Expenditures/GDX_FY15.xlsx'\n",
    "sql_file_name='Annual_Expenditures/GDX_FY15.db'\n",
    "\n",
    "#path of the excel file to get all the sheets from the excel file into xls sheet name list\n",
    "xls = pd.ExcelFile(xls_file_name)\n",
    "print(xls_file_name)\n",
    "print(xls.sheet_names)"
   ]
  },
  {
   "cell_type": "code",
   "execution_count": 5,
   "id": "656c462a",
   "metadata": {},
   "outputs": [
    {
     "name": "stdout",
     "output_type": "stream",
     "text": [
      "State Level Expenditures\n",
      "tbl_State Level Expenditures\n",
      "SLE_DERYA State Level Expenditures\n",
      "               FY15 Summary of Expenditures by State           Unnamed: 1  \\\n",
      "1                                              State  Veteran Population*   \n",
      "3                                             Totals      21578655.196365   \n",
      "5                                             Alaska         73275.798836   \n",
      "6  Arizona                                       ...        528486.269785   \n",
      "7  Arkansas                                      ...        247887.621117   \n",
      "8                                         California       1802445.537339   \n",
      "\n",
      "          Unnamed: 2      Unnamed: 9         Unnamed: 10  \n",
      "1  Total Expenditure    Medical Care  Unique Patients **  \n",
      "3    167209899.94242  65560845.67361             5930130  \n",
      "5      584862.501348   254287.555308               19256  \n",
      "6     3757595.939695  1561351.513255              147953  \n",
      "7     2174053.018392   985496.943772               86908  \n",
      "8    14938931.479778  6077347.108928              467539  \n",
      "=====================================\n"
     ]
    },
    {
     "name": "stderr",
     "output_type": "stream",
     "text": [
      "C:\\Users\\derya\\anaconda3\\lib\\site-packages\\pandas\\core\\generic.py:2872: UserWarning: The spaces in these column names will not be changed. In pandas versions < 0.14, spaces were converted to underscores.\n",
      "  sql.to_sql(\n"
     ]
    },
    {
     "name": "stdout",
     "output_type": "stream",
     "text": [
      "AK\n",
      "tbl_AK\n",
      "A STATE NAME: AK\n",
      "  FY15 Summary of Expenditures by State           Unnamed: 1  \\\n",
      "1        County/ Congressional District  Veteran Population*   \n",
      "2                        ALEUTIANS EAST           146.808704   \n",
      "3                        ALEUTIANS WEST           343.066207   \n",
      "4                             ANCHORAGE         30154.857859   \n",
      "5                                BETHEL            997.49648   \n",
      "6                           BRISTOL BAY            114.91978   \n",
      "\n",
      "          Unnamed: 2     Unnamed: 9        Unnamed: 10  \n",
      "1  Total Expenditure   Medical Care  Unique Patients**  \n",
      "2         211.629481     134.484481                 11  \n",
      "3         219.911397     117.084397                 21  \n",
      "4      284739.589291  123212.767661               9005  \n",
      "5        1828.638544     952.552544                 97  \n",
      "6         314.965034     107.301034                <10  \n",
      "=====================================\n"
     ]
    },
    {
     "name": "stderr",
     "output_type": "stream",
     "text": [
      "C:\\Users\\derya\\anaconda3\\lib\\site-packages\\pandas\\core\\generic.py:2872: UserWarning: The spaces in these column names will not be changed. In pandas versions < 0.14, spaces were converted to underscores.\n",
      "  sql.to_sql(\n"
     ]
    },
    {
     "name": "stdout",
     "output_type": "stream",
     "text": [
      "AL\n",
      "tbl_AL\n",
      "A STATE NAME: AL\n",
      "  FY15 Summary of Expenditures by State           Unnamed: 1  \\\n",
      "1        County/ Congressional District  Veteran Population*   \n",
      "2                               AUTAUGA            6062.8902   \n",
      "3                               BALDWIN         20173.040756   \n",
      "4                               BARBOUR          2397.603166   \n",
      "5                                  BIBB           1311.15305   \n",
      "6                                BLOUNT          4833.442525   \n",
      "\n",
      "          Unnamed: 2    Unnamed: 9        Unnamed: 10  \n",
      "1  Total Expenditure  Medical Care  Unique Patients**  \n",
      "2       49986.927498  12780.682498               1460  \n",
      "3      103194.796587  29138.286587               4657  \n",
      "4        16391.88172    4953.75572                624  \n",
      "5       11744.385492   4016.270492                471  \n",
      "6       23180.115616  11722.326616               1040  \n",
      "=====================================\n"
     ]
    },
    {
     "name": "stderr",
     "output_type": "stream",
     "text": [
      "C:\\Users\\derya\\anaconda3\\lib\\site-packages\\pandas\\core\\generic.py:2872: UserWarning: The spaces in these column names will not be changed. In pandas versions < 0.14, spaces were converted to underscores.\n",
      "  sql.to_sql(\n"
     ]
    },
    {
     "name": "stdout",
     "output_type": "stream",
     "text": [
      "AR\n",
      "tbl_AR\n",
      "A STATE NAME: AR\n",
      "  FY15 Summary of Expenditures by State           Unnamed: 1  \\\n",
      "1        County/ Congressional District  Veteran Population*   \n",
      "2                              ARKANSAS          1462.217466   \n",
      "3                                ASHLEY          1649.340216   \n",
      "4                                BAXTER          5540.505475   \n",
      "5                                BENTON          19405.95825   \n",
      "6                                 BOONE           3550.76196   \n",
      "\n",
      "          Unnamed: 2    Unnamed: 9        Unnamed: 10  \n",
      "1  Total Expenditure  Medical Care  Unique Patients**  \n",
      "2       10493.247581   5563.746581                444  \n",
      "3       11925.310406   5196.213406                461  \n",
      "4       35095.473179  14657.232179               1976  \n",
      "5      120841.327618  57565.056618               6308  \n",
      "6       26913.755699  10875.910699               1343  \n",
      "=====================================\n",
      "AZ\n",
      "tbl_AZ\n"
     ]
    },
    {
     "name": "stderr",
     "output_type": "stream",
     "text": [
      "C:\\Users\\derya\\anaconda3\\lib\\site-packages\\pandas\\core\\generic.py:2872: UserWarning: The spaces in these column names will not be changed. In pandas versions < 0.14, spaces were converted to underscores.\n",
      "  sql.to_sql(\n"
     ]
    },
    {
     "name": "stdout",
     "output_type": "stream",
     "text": [
      "A STATE NAME: AZ\n",
      "  FY15 Summary of Expenditures by State           Unnamed: 1  \\\n",
      "1        County/ Congressional District  Veteran Population*   \n",
      "2                                APACHE           4557.57458   \n",
      "3                               COCHISE         23257.955767   \n",
      "4                              COCONINO          9004.107893   \n",
      "5                                  GILA            6228.5482   \n",
      "6                                GRAHAM          2942.152776   \n",
      "\n",
      "          Unnamed: 2    Unnamed: 9        Unnamed: 10  \n",
      "1  Total Expenditure  Medical Care  Unique Patients**  \n",
      "2       27841.221239  10448.133239               1261  \n",
      "3       181863.44721   66484.82321               6892  \n",
      "4       48033.734574  19496.805574               2117  \n",
      "5       35541.699457  15639.647457               1808  \n",
      "6       15996.441978   8421.846978                763  \n",
      "=====================================\n",
      "CA\n",
      "tbl_CA\n"
     ]
    },
    {
     "name": "stderr",
     "output_type": "stream",
     "text": [
      "C:\\Users\\derya\\anaconda3\\lib\\site-packages\\pandas\\core\\generic.py:2872: UserWarning: The spaces in these column names will not be changed. In pandas versions < 0.14, spaces were converted to underscores.\n",
      "  sql.to_sql(\n"
     ]
    },
    {
     "name": "stdout",
     "output_type": "stream",
     "text": [
      "A STATE NAME: CA\n",
      "  FY15 Summary of Expenditures by State           Unnamed: 1  \\\n",
      "1        County/ Congressional District  Veteran Population*   \n",
      "2                               ALAMEDA         56608.394624   \n",
      "3                                ALPINE           129.312602   \n",
      "4                                AMADOR          4306.113881   \n",
      "5                                 BUTTE         17696.289561   \n",
      "6                             CALAVERAS          5630.476678   \n",
      "\n",
      "          Unnamed: 2     Unnamed: 9        Unnamed: 10  \n",
      "1  Total Expenditure   Medical Care  Unique Patients**  \n",
      "2      492636.140332  227062.619842              13186  \n",
      "3         295.023852      87.383852                 19  \n",
      "4       24408.520124   11993.280124                949  \n",
      "5      112274.757612   40159.367612               5085  \n",
      "6       33264.317698   15662.080698               1523  \n",
      "=====================================\n",
      "CO\n",
      "tbl_CO\n"
     ]
    },
    {
     "name": "stderr",
     "output_type": "stream",
     "text": [
      "C:\\Users\\derya\\anaconda3\\lib\\site-packages\\pandas\\core\\generic.py:2872: UserWarning: The spaces in these column names will not be changed. In pandas versions < 0.14, spaces were converted to underscores.\n",
      "  sql.to_sql(\n"
     ]
    },
    {
     "name": "stdout",
     "output_type": "stream",
     "text": [
      "A STATE NAME: CO\n",
      "  FY15 Summary of Expenditures by State           Unnamed: 1  \\\n",
      "1        County/ Congressional District  Veteran Population*   \n",
      "2                                 ADAMS         30533.738492   \n",
      "3                               ALAMOSA          1081.460446   \n",
      "4                              ARAPAHOE         43704.633539   \n",
      "5                             ARCHULETA          1019.166813   \n",
      "6                                  BACA           374.208926   \n",
      "\n",
      "          Unnamed: 2     Unnamed: 9        Unnamed: 10  \n",
      "1  Total Expenditure   Medical Care  Unique Patients**  \n",
      "2      194319.714122   81694.772122               6479  \n",
      "3        8660.445524    3406.840524                408  \n",
      "4      287641.387707  107025.815707               9397  \n",
      "5        8611.476587    3465.578587                436  \n",
      "6        1656.119053     843.622053                 85  \n",
      "=====================================\n",
      "CT\n",
      "tbl_CT\n"
     ]
    },
    {
     "name": "stderr",
     "output_type": "stream",
     "text": [
      "C:\\Users\\derya\\anaconda3\\lib\\site-packages\\pandas\\core\\generic.py:2872: UserWarning: The spaces in these column names will not be changed. In pandas versions < 0.14, spaces were converted to underscores.\n",
      "  sql.to_sql(\n"
     ]
    },
    {
     "name": "stdout",
     "output_type": "stream",
     "text": [
      "A STATE NAME: CT\n",
      "  FY15 Summary of Expenditures by State           Unnamed: 1  \\\n",
      "1        County/ Congressional District  Veteran Population*   \n",
      "2                             FAIRFIELD         37668.276644   \n",
      "3                              HARTFORD         52078.361161   \n",
      "4                            LITCHFIELD         14202.286644   \n",
      "5                             MIDDLESEX         11540.182787   \n",
      "6                             NEW HAVEN         46040.505183   \n",
      "\n",
      "          Unnamed: 2     Unnamed: 9        Unnamed: 10  \n",
      "1  Total Expenditure   Medical Care  Unique Patients**  \n",
      "2       184570.42482    98690.21782               8377  \n",
      "3      294534.405674  137562.514544              12754  \n",
      "4        67608.39354    34023.43154               3329  \n",
      "5       58900.275004   30404.269004               2626  \n",
      "6      431926.848994  283447.087074              14129  \n",
      "=====================================\n",
      "DC\n",
      "tbl_DC\n"
     ]
    },
    {
     "name": "stderr",
     "output_type": "stream",
     "text": [
      "C:\\Users\\derya\\anaconda3\\lib\\site-packages\\pandas\\core\\generic.py:2872: UserWarning: The spaces in these column names will not be changed. In pandas versions < 0.14, spaces were converted to underscores.\n",
      "  sql.to_sql(\n"
     ]
    },
    {
     "name": "stdout",
     "output_type": "stream",
     "text": [
      "A STATE NAME: DC\n",
      "  FY15 Summary of Expenditures by State           Unnamed: 1  \\\n",
      "1        County/ Congressional District  Veteran Population*   \n",
      "2                  DISTRICT OF COLUMBIA         29470.469378   \n",
      "3                                   NaN                  NaN   \n",
      "4                           DC (Totals)         29470.469378   \n",
      "5                                   NaN                  NaN   \n",
      "6                       CONG. DIST (01)         29470.469378   \n",
      "\n",
      "          Unnamed: 2    Unnamed: 9        Unnamed: 10  \n",
      "1  Total Expenditure  Medical Care  Unique Patients**  \n",
      "2      2960157.04022  239825.22712               8580  \n",
      "3                NaN           NaN                NaN  \n",
      "4      2960157.04022  239825.22712               8580  \n",
      "5                NaN           NaN                NaN  \n",
      "6      2960157.04022  239825.22712               8580  \n",
      "=====================================\n",
      "DE\n",
      "tbl_DE\n"
     ]
    },
    {
     "name": "stderr",
     "output_type": "stream",
     "text": [
      "C:\\Users\\derya\\anaconda3\\lib\\site-packages\\pandas\\core\\generic.py:2872: UserWarning: The spaces in these column names will not be changed. In pandas versions < 0.14, spaces were converted to underscores.\n",
      "  sql.to_sql(\n"
     ]
    },
    {
     "name": "stdout",
     "output_type": "stream",
     "text": [
      "A STATE NAME: DE\n",
      "  FY15 Summary of Expenditures by State           Unnamed: 1  \\\n",
      "1        County/ Congressional District  Veteran Population*   \n",
      "2                                  KENT         19806.049719   \n",
      "3                            NEW CASTLE         34991.501603   \n",
      "4                                SUSSEX         22556.488843   \n",
      "5                                   NaN                  NaN   \n",
      "6                     DELAWARE (Totals)         77354.040165   \n",
      "\n",
      "          Unnamed: 2     Unnamed: 9        Unnamed: 10  \n",
      "1  Total Expenditure   Medical Care  Unique Patients**  \n",
      "2      115578.547398   31383.141398               4010  \n",
      "3      223428.689668  110984.011058               7612  \n",
      "4       83270.437595   28486.962595               4035  \n",
      "5                NaN            NaN                NaN  \n",
      "6      422277.674661  170854.115051              15657  \n",
      "=====================================\n",
      "FL\n",
      "tbl_FL\n"
     ]
    },
    {
     "name": "stderr",
     "output_type": "stream",
     "text": [
      "C:\\Users\\derya\\anaconda3\\lib\\site-packages\\pandas\\core\\generic.py:2872: UserWarning: The spaces in these column names will not be changed. In pandas versions < 0.14, spaces were converted to underscores.\n",
      "  sql.to_sql(\n"
     ]
    },
    {
     "name": "stdout",
     "output_type": "stream",
     "text": [
      "A STATE NAME: FL\n",
      "  FY15 Summary of Expenditures by State           Unnamed: 1  \\\n",
      "1        County/ Congressional District  Veteran Population*   \n",
      "2                               ALACHUA         18515.305307   \n",
      "3                                 BAKER          2786.275234   \n",
      "4                                   BAY         23521.724932   \n",
      "5                              BRADFORD          4133.921137   \n",
      "6                               BREVARD         65914.759548   \n",
      "\n",
      "          Unnamed: 2     Unnamed: 9        Unnamed: 10  \n",
      "1  Total Expenditure   Medical Care  Unique Patients**  \n",
      "2       248350.39752   157064.02907               7840  \n",
      "3       15093.522606    8043.891606                650  \n",
      "4      153717.748776   33046.382776               5756  \n",
      "5       24647.308335   15563.649335                956  \n",
      "6      550525.067062  193430.213612              23474  \n",
      "=====================================\n",
      "GA\n",
      "tbl_GA\n"
     ]
    },
    {
     "name": "stderr",
     "output_type": "stream",
     "text": [
      "C:\\Users\\derya\\anaconda3\\lib\\site-packages\\pandas\\core\\generic.py:2872: UserWarning: The spaces in these column names will not be changed. In pandas versions < 0.14, spaces were converted to underscores.\n",
      "  sql.to_sql(\n"
     ]
    },
    {
     "name": "stdout",
     "output_type": "stream",
     "text": [
      "A STATE NAME: GA\n",
      "  FY15 Summary of Expenditures by State           Unnamed: 1  \\\n",
      "1        County/ Congressional District  Veteran Population*   \n",
      "2                               APPLING           1168.72705   \n",
      "3                              ATKINSON           421.452882   \n",
      "4                                 BACON           802.274603   \n",
      "5                                 BAKER           303.074345   \n",
      "6                               BALDWIN          4049.800932   \n",
      "\n",
      "          Unnamed: 2    Unnamed: 9        Unnamed: 10  \n",
      "1  Total Expenditure  Medical Care  Unique Patients**  \n",
      "2        6577.187425   2708.537425                373  \n",
      "3        3703.312785   1846.126785                193  \n",
      "4        4819.911411   1821.246411                210  \n",
      "5        1373.435409    452.099409                 63  \n",
      "6       24251.021779   9820.890779                970  \n",
      "=====================================\n"
     ]
    },
    {
     "name": "stderr",
     "output_type": "stream",
     "text": [
      "C:\\Users\\derya\\anaconda3\\lib\\site-packages\\pandas\\core\\generic.py:2872: UserWarning: The spaces in these column names will not be changed. In pandas versions < 0.14, spaces were converted to underscores.\n",
      "  sql.to_sql(\n"
     ]
    },
    {
     "name": "stdout",
     "output_type": "stream",
     "text": [
      "HI\n",
      "tbl_HI\n",
      "A STATE NAME: HI\n",
      "  FY15 Summary of Expenditures by State           Unnamed: 1  \\\n",
      "1        County/ Congressional District  Veteran Population*   \n",
      "2                                HAWAII         16528.637724   \n",
      "3                              HONOLULU         87657.693477   \n",
      "4                               KALAWAO             0.202844   \n",
      "5                                 KAUAI          5289.108529   \n",
      "6                                  MAUI         11006.748649   \n",
      "\n",
      "          Unnamed: 2     Unnamed: 9        Unnamed: 10  \n",
      "1  Total Expenditure   Medical Care  Unique Patients**  \n",
      "2      109424.405426   46698.807426               4308  \n",
      "3      676173.942306  184701.504056              18320  \n",
      "4           4.209752       4.209752                <10  \n",
      "5       33892.615978   16424.230978               1464  \n",
      "6       68542.276433   29092.029433               2357  \n",
      "=====================================\n",
      "IA\n",
      "tbl_IA\n"
     ]
    },
    {
     "name": "stderr",
     "output_type": "stream",
     "text": [
      "C:\\Users\\derya\\anaconda3\\lib\\site-packages\\pandas\\core\\generic.py:2872: UserWarning: The spaces in these column names will not be changed. In pandas versions < 0.14, spaces were converted to underscores.\n",
      "  sql.to_sql(\n"
     ]
    },
    {
     "name": "stdout",
     "output_type": "stream",
     "text": [
      "A STATE NAME: IA\n",
      "  FY15 Summary of Expenditures by State           Unnamed: 1  \\\n",
      "1        County/ Congressional District  Veteran Population*   \n",
      "2                                 ADAIR            639.53444   \n",
      "3                                 ADAMS           370.913129   \n",
      "4                             ALLAMAKEE          1081.039621   \n",
      "5                             APPANOOSE           898.430882   \n",
      "6                               AUDUBON           534.605318   \n",
      "\n",
      "          Unnamed: 2    Unnamed: 9        Unnamed: 10  \n",
      "1  Total Expenditure  Medical Care  Unique Patients**  \n",
      "2        4568.439109   3317.786109                200  \n",
      "3        2291.715391   1491.676391                115  \n",
      "4        8664.462003   5054.427003                448  \n",
      "5        7931.541873   4140.548873                422  \n",
      "6        2913.440092   1224.953092                171  \n",
      "=====================================\n",
      "ID\n",
      "tbl_ID\n"
     ]
    },
    {
     "name": "stderr",
     "output_type": "stream",
     "text": [
      "C:\\Users\\derya\\anaconda3\\lib\\site-packages\\pandas\\core\\generic.py:2872: UserWarning: The spaces in these column names will not be changed. In pandas versions < 0.14, spaces were converted to underscores.\n",
      "  sql.to_sql(\n"
     ]
    },
    {
     "name": "stdout",
     "output_type": "stream",
     "text": [
      "A STATE NAME: ID\n",
      "  FY15 Summary of Expenditures by State           Unnamed: 1  \\\n",
      "1        County/ Congressional District  Veteran Population*   \n",
      "2                                   ADA         32554.242522   \n",
      "3                                 ADAMS           468.051126   \n",
      "4                               BANNOCK          6088.229575   \n",
      "5                             BEAR LAKE           517.075123   \n",
      "6                               BENEWAH           981.838365   \n",
      "\n",
      "          Unnamed: 2     Unnamed: 9        Unnamed: 10  \n",
      "1  Total Expenditure   Medical Care  Unique Patients**  \n",
      "2      284287.719114  129472.439264              11541  \n",
      "3           2991.461       1369.328                172  \n",
      "4       40302.407584   17054.114584               1953  \n",
      "5        1755.550162     825.540162                113  \n",
      "6        6493.480396    2759.570396                309  \n",
      "=====================================\n",
      "IL\n",
      "tbl_IL\n"
     ]
    },
    {
     "name": "stderr",
     "output_type": "stream",
     "text": [
      "C:\\Users\\derya\\anaconda3\\lib\\site-packages\\pandas\\core\\generic.py:2872: UserWarning: The spaces in these column names will not be changed. In pandas versions < 0.14, spaces were converted to underscores.\n",
      "  sql.to_sql(\n"
     ]
    },
    {
     "name": "stdout",
     "output_type": "stream",
     "text": [
      "A STATE NAME: IL\n",
      "  FY15 Summary of Expenditures by State           Unnamed: 1  \\\n",
      "1        County/ Congressional District  Veteran Population*   \n",
      "2                                 ADAMS          6208.211835   \n",
      "3                             ALEXANDER           659.654636   \n",
      "4                                  BOND          1353.161407   \n",
      "5                                 BOONE          3663.235723   \n",
      "6                                 BROWN           422.938161   \n",
      "\n",
      "          Unnamed: 2    Unnamed: 9        Unnamed: 10  \n",
      "1  Total Expenditure  Medical Care  Unique Patients**  \n",
      "2       32118.334516  12404.263886               1693  \n",
      "3        7071.652405   3998.819405                281  \n",
      "4        6496.732121   2732.136121                268  \n",
      "5       13029.110389   5497.738389                782  \n",
      "6        1348.368858    484.595858                 95  \n",
      "=====================================\n",
      "IN\n",
      "tbl_IN\n"
     ]
    },
    {
     "name": "stderr",
     "output_type": "stream",
     "text": [
      "C:\\Users\\derya\\anaconda3\\lib\\site-packages\\pandas\\core\\generic.py:2872: UserWarning: The spaces in these column names will not be changed. In pandas versions < 0.14, spaces were converted to underscores.\n",
      "  sql.to_sql(\n"
     ]
    },
    {
     "name": "stdout",
     "output_type": "stream",
     "text": [
      "A STATE NAME: IN\n",
      "  FY15 Summary of Expenditures by State           Unnamed: 1  \\\n",
      "1        County/ Congressional District  Veteran Population*   \n",
      "2                                 ADAMS          1772.619809   \n",
      "3                                 ALLEN         23235.591008   \n",
      "4                           BARTHOLOMEW           5414.26759   \n",
      "5                                BENTON            683.97746   \n",
      "6                             BLACKFORD          1122.911756   \n",
      "\n",
      "          Unnamed: 2    Unnamed: 9        Unnamed: 10  \n",
      "1  Total Expenditure  Medical Care  Unique Patients**  \n",
      "2        7167.697031   3294.266031                476  \n",
      "3      154022.704989  82245.744829               7391  \n",
      "4       27170.497013  11837.705013               1252  \n",
      "5        3605.204457   1834.982457                178  \n",
      "6        7988.302337   3720.792337                404  \n",
      "=====================================\n",
      "KS\n",
      "tbl_KS\n"
     ]
    },
    {
     "name": "stderr",
     "output_type": "stream",
     "text": [
      "C:\\Users\\derya\\anaconda3\\lib\\site-packages\\pandas\\core\\generic.py:2872: UserWarning: The spaces in these column names will not be changed. In pandas versions < 0.14, spaces were converted to underscores.\n",
      "  sql.to_sql(\n"
     ]
    },
    {
     "name": "stdout",
     "output_type": "stream",
     "text": [
      "A STATE NAME: KS\n",
      "  FY15 Summary of Expenditures by State           Unnamed: 1  \\\n",
      "1        County/ Congressional District  Veteran Population*   \n",
      "2                                 ALLEN          1256.750289   \n",
      "3                              ANDERSON           658.675098   \n",
      "4                              ATCHISON          1305.819839   \n",
      "5                                BARBER           362.614645   \n",
      "6                                BARTON          2023.641352   \n",
      "\n",
      "          Unnamed: 2    Unnamed: 9        Unnamed: 10  \n",
      "1  Total Expenditure  Medical Care  Unique Patients**  \n",
      "2        5512.922242   2623.585242                290  \n",
      "3        2918.066955   1404.612955                177  \n",
      "4        8574.214172   4532.255172                347  \n",
      "5        1934.474266   1012.841266                123  \n",
      "6        8300.647287   3659.882287                602  \n",
      "=====================================\n",
      "KY\n",
      "tbl_KY\n"
     ]
    },
    {
     "name": "stderr",
     "output_type": "stream",
     "text": [
      "C:\\Users\\derya\\anaconda3\\lib\\site-packages\\pandas\\core\\generic.py:2872: UserWarning: The spaces in these column names will not be changed. In pandas versions < 0.14, spaces were converted to underscores.\n",
      "  sql.to_sql(\n"
     ]
    },
    {
     "name": "stdout",
     "output_type": "stream",
     "text": [
      "A STATE NAME: KY\n",
      "  FY15 Summary of Expenditures by State           Unnamed: 1  \\\n",
      "1        County/ Congressional District  Veteran Population*   \n",
      "2                                 ADAIR           1174.55494   \n",
      "3                                 ALLEN          1418.546973   \n",
      "4                              ANDERSON          1762.194771   \n",
      "5                               BALLARD           743.424598   \n",
      "6                                BARREN            2874.9816   \n",
      "\n",
      "          Unnamed: 2    Unnamed: 9        Unnamed: 10  \n",
      "1  Total Expenditure  Medical Care  Unique Patients**  \n",
      "2         8127.67568    3196.41568                400  \n",
      "3        8982.726744   3373.935744                374  \n",
      "4       12394.871388   5263.317388                525  \n",
      "5         4457.80503    2241.03603                272  \n",
      "6       17813.521053   5999.217053                688  \n",
      "=====================================\n",
      "LA\n",
      "tbl_LA\n"
     ]
    },
    {
     "name": "stderr",
     "output_type": "stream",
     "text": [
      "C:\\Users\\derya\\anaconda3\\lib\\site-packages\\pandas\\core\\generic.py:2872: UserWarning: The spaces in these column names will not be changed. In pandas versions < 0.14, spaces were converted to underscores.\n",
      "  sql.to_sql(\n"
     ]
    },
    {
     "name": "stdout",
     "output_type": "stream",
     "text": [
      "A STATE NAME: LA\n",
      "  FY15 Summary of Expenditures by State           Unnamed: 1  \\\n",
      "1        County/ Congressional District  Veteran Population*   \n",
      "2                                ACADIA          3750.433125   \n",
      "3                                 ALLEN          1858.753374   \n",
      "4                             ASCENSION          6925.030646   \n",
      "5                            ASSUMPTION          1424.666137   \n",
      "6                             AVOYELLES          2989.372772   \n",
      "\n",
      "          Unnamed: 2    Unnamed: 9        Unnamed: 10  \n",
      "1  Total Expenditure  Medical Care  Unique Patients**  \n",
      "2       24792.286211  10507.692211               1061  \n",
      "3       12420.643049   5684.897049                548  \n",
      "4       36013.640045  12178.184045               1289  \n",
      "5        7210.874626   2853.726626                327  \n",
      "6       27085.314992  11512.023992               1166  \n",
      "=====================================\n",
      "MA\n",
      "tbl_MA\n"
     ]
    },
    {
     "name": "stderr",
     "output_type": "stream",
     "text": [
      "C:\\Users\\derya\\anaconda3\\lib\\site-packages\\pandas\\core\\generic.py:2872: UserWarning: The spaces in these column names will not be changed. In pandas versions < 0.14, spaces were converted to underscores.\n",
      "  sql.to_sql(\n"
     ]
    },
    {
     "name": "stdout",
     "output_type": "stream",
     "text": [
      "A STATE NAME: MA\n",
      "  FY15 Summary of Expenditures by State           Unnamed: 1  \\\n",
      "1        County/ Congressional District  Veteran Population*   \n",
      "2                            BARNSTABLE         19688.576571   \n",
      "3                             BERKSHIRE          11141.24219   \n",
      "4                               BRISTOL         32743.092125   \n",
      "5                                 DUKES          1004.301377   \n",
      "6                                 ESSEX         41683.412558   \n",
      "\n",
      "          Unnamed: 2    Unnamed: 9        Unnamed: 10  \n",
      "1  Total Expenditure  Medical Care  Unique Patients**  \n",
      "2      107898.288918  37601.389358               4723  \n",
      "3       57363.634071  27508.332071               2179  \n",
      "4      220416.190569  96700.823569               8114  \n",
      "5        3389.955619   1188.471619                199  \n",
      "6      235853.038874  97531.874874               8779  \n",
      "=====================================\n",
      "MD\n",
      "tbl_MD\n"
     ]
    },
    {
     "name": "stderr",
     "output_type": "stream",
     "text": [
      "C:\\Users\\derya\\anaconda3\\lib\\site-packages\\pandas\\core\\generic.py:2872: UserWarning: The spaces in these column names will not be changed. In pandas versions < 0.14, spaces were converted to underscores.\n",
      "  sql.to_sql(\n"
     ]
    },
    {
     "name": "stdout",
     "output_type": "stream",
     "text": [
      "A STATE NAME: MD\n",
      "  FY15 Summary of Expenditures by State           Unnamed: 1  \\\n",
      "1        County/ Congressional District  Veteran Population*   \n",
      "2                              ALLEGANY          6808.286089   \n",
      "3                          ANNE ARUNDEL         54118.812456   \n",
      "4                             BALTIMORE         57459.843472   \n",
      "5                               CALVERT          9331.063551   \n",
      "6                              CAROLINE          2887.601658   \n",
      "\n",
      "          Unnamed: 2     Unnamed: 9        Unnamed: 10  \n",
      "1  Total Expenditure   Medical Care  Unique Patients**  \n",
      "2       38584.341631   18442.415631               2070  \n",
      "3      314740.502399   81596.869399               8496  \n",
      "4      305600.164482  148641.040482              11388  \n",
      "5       42462.001021    8714.485021               1053  \n",
      "6       13572.687048    6745.388048                565  \n",
      "=====================================\n",
      "ME\n",
      "tbl_ME\n"
     ]
    },
    {
     "name": "stderr",
     "output_type": "stream",
     "text": [
      "C:\\Users\\derya\\anaconda3\\lib\\site-packages\\pandas\\core\\generic.py:2872: UserWarning: The spaces in these column names will not be changed. In pandas versions < 0.14, spaces were converted to underscores.\n",
      "  sql.to_sql(\n"
     ]
    },
    {
     "name": "stdout",
     "output_type": "stream",
     "text": [
      "A STATE NAME: ME\n",
      "  FY15 Summary of Expenditures by State           Unnamed: 1  \\\n",
      "1        County/ Congressional District  Veteran Population*   \n",
      "2                          ANDROSCOGGIN          9963.614748   \n",
      "3                             AROOSTOOK           7380.97708   \n",
      "4                            CUMBERLAND         21767.434366   \n",
      "5                              FRANKLIN          2895.040733   \n",
      "6                               HANCOCK          5708.358865   \n",
      "\n",
      "          Unnamed: 2    Unnamed: 9        Unnamed: 10  \n",
      "1  Total Expenditure  Medical Care  Unique Patients**  \n",
      "2       74776.484696  29995.356696               3404  \n",
      "3       61480.876763  21591.461763               3134  \n",
      "4        127988.5954    43598.6604               5635  \n",
      "5       23507.676696  10637.967696               1080  \n",
      "6       32428.624813  12019.218813               1455  \n",
      "=====================================\n",
      "MI\n",
      "tbl_MI\n"
     ]
    },
    {
     "name": "stderr",
     "output_type": "stream",
     "text": [
      "C:\\Users\\derya\\anaconda3\\lib\\site-packages\\pandas\\core\\generic.py:2872: UserWarning: The spaces in these column names will not be changed. In pandas versions < 0.14, spaces were converted to underscores.\n",
      "  sql.to_sql(\n"
     ]
    },
    {
     "name": "stdout",
     "output_type": "stream",
     "text": [
      "A STATE NAME: MI\n",
      "  FY15 Summary of Expenditures by State           Unnamed: 1  \\\n",
      "1        County/ Congressional District  Veteran Population*   \n",
      "2                                ALCONA          1546.590139   \n",
      "3                                 ALGER           902.193239   \n",
      "4                               ALLEGAN          7421.633935   \n",
      "5                                ALPENA          2825.774416   \n",
      "6                                ANTRIM          2266.169089   \n",
      "\n",
      "          Unnamed: 2    Unnamed: 9        Unnamed: 10  \n",
      "1  Total Expenditure  Medical Care  Unique Patients**  \n",
      "2        9868.654078   4839.157078                519  \n",
      "3        7806.799819   3572.537819                367  \n",
      "4       34520.091964  13547.664964               1569  \n",
      "5       16072.075815   7434.102815                967  \n",
      "6       12468.571078   4050.456078                562  \n",
      "=====================================\n"
     ]
    },
    {
     "name": "stderr",
     "output_type": "stream",
     "text": [
      "C:\\Users\\derya\\anaconda3\\lib\\site-packages\\pandas\\core\\generic.py:2872: UserWarning: The spaces in these column names will not be changed. In pandas versions < 0.14, spaces were converted to underscores.\n",
      "  sql.to_sql(\n"
     ]
    },
    {
     "name": "stdout",
     "output_type": "stream",
     "text": [
      "MN\n",
      "tbl_MN\n",
      "A STATE NAME: MN\n",
      "  FY15 Summary of Expenditures by State           Unnamed: 1  \\\n",
      "1        County/ Congressional District  Veteran Population*   \n",
      "2                                AITKIN          1699.515866   \n",
      "3                                 ANOKA         22974.542038   \n",
      "4                                BECKER          2919.345046   \n",
      "5                              BELTRAMI          3182.734328   \n",
      "6                                BENTON          3345.416506   \n",
      "\n",
      "          Unnamed: 2    Unnamed: 9        Unnamed: 10  \n",
      "1  Total Expenditure  Medical Care  Unique Patients**  \n",
      "2       18210.774216   9750.729216                983  \n",
      "3      150557.909851  73106.402851               7280  \n",
      "4       23148.235087  12254.113087               1179  \n",
      "5        30676.74727   13887.25427               1344  \n",
      "6       30013.786109  19020.491109               1506  \n",
      "=====================================\n",
      "MO\n",
      "tbl_MO\n"
     ]
    },
    {
     "name": "stderr",
     "output_type": "stream",
     "text": [
      "C:\\Users\\derya\\anaconda3\\lib\\site-packages\\pandas\\core\\generic.py:2872: UserWarning: The spaces in these column names will not be changed. In pandas versions < 0.14, spaces were converted to underscores.\n",
      "  sql.to_sql(\n"
     ]
    },
    {
     "name": "stdout",
     "output_type": "stream",
     "text": [
      "A STATE NAME: MO\n",
      "  FY15 Summary of Expenditures by State           Unnamed: 1  \\\n",
      "1        County/ Congressional District  Veteran Population*   \n",
      "2                                 ADAIR          1385.672786   \n",
      "3                                ANDREW          1394.181633   \n",
      "4                              ATCHISON            531.23941   \n",
      "5                               AUDRAIN          1895.922464   \n",
      "6                                 BARRY          2951.347848   \n",
      "\n",
      "          Unnamed: 2    Unnamed: 9        Unnamed: 10  \n",
      "1  Total Expenditure  Medical Care  Unique Patients**  \n",
      "2       10235.814391   4927.295391                585  \n",
      "3        6632.254678   3231.544678                419  \n",
      "4        2489.103693   1168.580693                139  \n",
      "5       16160.552872   8709.292872                966  \n",
      "6       20648.124772   9438.718772               1143  \n",
      "=====================================\n",
      "MS\n",
      "tbl_MS\n"
     ]
    },
    {
     "name": "stderr",
     "output_type": "stream",
     "text": [
      "C:\\Users\\derya\\anaconda3\\lib\\site-packages\\pandas\\core\\generic.py:2872: UserWarning: The spaces in these column names will not be changed. In pandas versions < 0.14, spaces were converted to underscores.\n",
      "  sql.to_sql(\n"
     ]
    },
    {
     "name": "stdout",
     "output_type": "stream",
     "text": [
      "A STATE NAME: MS\n",
      "  FY15 Summary of Expenditures by State           Unnamed: 1  \\\n",
      "1        County/ Congressional District  Veteran Population*   \n",
      "2                                 ADAMS          2117.863502   \n",
      "3                                ALCORN          2223.790121   \n",
      "4                                 AMITE          1088.737848   \n",
      "5                                ATTALA          1347.804683   \n",
      "6                                BENTON           475.437858   \n",
      "\n",
      "          Unnamed: 2    Unnamed: 9        Unnamed: 10  \n",
      "1  Total Expenditure  Medical Care  Unique Patients**  \n",
      "2       20169.326454   9875.173594               1066  \n",
      "3       16617.222271   4826.407901                568  \n",
      "4        6655.975616   3234.831616                378  \n",
      "5       13236.688986   6863.988986                517  \n",
      "6        2834.589054   1534.356054                116  \n",
      "=====================================\n",
      "MT\n",
      "tbl_MT\n"
     ]
    },
    {
     "name": "stderr",
     "output_type": "stream",
     "text": [
      "C:\\Users\\derya\\anaconda3\\lib\\site-packages\\pandas\\core\\generic.py:2872: UserWarning: The spaces in these column names will not be changed. In pandas versions < 0.14, spaces were converted to underscores.\n",
      "  sql.to_sql(\n"
     ]
    },
    {
     "name": "stdout",
     "output_type": "stream",
     "text": [
      "A STATE NAME: MT\n",
      "  FY15 Summary of Expenditures by State           Unnamed: 1  \\\n",
      "1        County/ Congressional District  Veteran Population*   \n",
      "2                            BEAVERHEAD           960.548006   \n",
      "3                              BIG HORN           879.233756   \n",
      "4                                BLAINE           579.069746   \n",
      "5                            BROADWATER           528.525444   \n",
      "6                                CARBON           852.849745   \n",
      "\n",
      "          Unnamed: 2    Unnamed: 9        Unnamed: 10  \n",
      "1  Total Expenditure  Medical Care  Unique Patients**  \n",
      "2        5831.279659   2676.080659                264  \n",
      "3        5839.447373   3368.588373                252  \n",
      "4        5504.431764   2984.493764                176  \n",
      "5       10430.550406   7581.801406                529  \n",
      "6        6771.552482   3821.194482                357  \n",
      "=====================================\n",
      "NC\n",
      "tbl_NC\n"
     ]
    },
    {
     "name": "stderr",
     "output_type": "stream",
     "text": [
      "C:\\Users\\derya\\anaconda3\\lib\\site-packages\\pandas\\core\\generic.py:2872: UserWarning: The spaces in these column names will not be changed. In pandas versions < 0.14, spaces were converted to underscores.\n",
      "  sql.to_sql(\n"
     ]
    },
    {
     "name": "stdout",
     "output_type": "stream",
     "text": [
      "A STATE NAME: NC\n",
      "  FY15 Summary of Expenditures by State           Unnamed: 1  \\\n",
      "1        County/ Congressional District  Veteran Population*   \n",
      "2                              ALAMANCE         11377.549746   \n",
      "3                             ALEXANDER          2779.374446   \n",
      "4                             ALLEGHANY           897.297824   \n",
      "5                                 ANSON          1651.638582   \n",
      "6                                  ASHE          1881.997336   \n",
      "\n",
      "          Unnamed: 2    Unnamed: 9        Unnamed: 10  \n",
      "1  Total Expenditure  Medical Care  Unique Patients**  \n",
      "2       78642.834763  40558.578763               2655  \n",
      "3        18875.44748    8442.27248                938  \n",
      "4        6190.042181   2556.483181                289  \n",
      "5       11223.664721   4634.938721                546  \n",
      "6       13140.323175   4241.135175                655  \n",
      "=====================================\n",
      "ND\n",
      "tbl_ND\n"
     ]
    },
    {
     "name": "stderr",
     "output_type": "stream",
     "text": [
      "C:\\Users\\derya\\anaconda3\\lib\\site-packages\\pandas\\core\\generic.py:2872: UserWarning: The spaces in these column names will not be changed. In pandas versions < 0.14, spaces were converted to underscores.\n",
      "  sql.to_sql(\n"
     ]
    },
    {
     "name": "stdout",
     "output_type": "stream",
     "text": [
      "A STATE NAME: ND\n",
      "  FY15 Summary of Expenditures by State           Unnamed: 1  \\\n",
      "1        County/ Congressional District  Veteran Population*   \n",
      "2                                 ADAMS           197.684123   \n",
      "3                                BARNES           926.867362   \n",
      "4                                BENSON           400.078306   \n",
      "5                              BILLINGS           103.710848   \n",
      "6                             BOTTINEAU           647.427203   \n",
      "\n",
      "          Unnamed: 2    Unnamed: 9        Unnamed: 10  \n",
      "1  Total Expenditure  Medical Care  Unique Patients**  \n",
      "2        1395.645962    737.422962                 80  \n",
      "3         6795.25162    3766.77562                353  \n",
      "4        2597.058161   1231.448161                129  \n",
      "5           426.9546      335.1146                 53  \n",
      "6        3186.768984   1202.564984                176  \n",
      "=====================================\n",
      "NE\n",
      "tbl_NE\n"
     ]
    },
    {
     "name": "stderr",
     "output_type": "stream",
     "text": [
      "C:\\Users\\derya\\anaconda3\\lib\\site-packages\\pandas\\core\\generic.py:2872: UserWarning: The spaces in these column names will not be changed. In pandas versions < 0.14, spaces were converted to underscores.\n",
      "  sql.to_sql(\n"
     ]
    },
    {
     "name": "stdout",
     "output_type": "stream",
     "text": [
      "A STATE NAME: NE\n",
      "  FY15 Summary of Expenditures by State           Unnamed: 1  \\\n",
      "1        County/ Congressional District  Veteran Population*   \n",
      "2                                 ADAMS          2281.398583   \n",
      "3                              ANTELOPE           588.012234   \n",
      "4                                ARTHUR            26.726016   \n",
      "5                                BANNER            45.802171   \n",
      "6                                BLAINE            25.344364   \n",
      "\n",
      "          Unnamed: 2    Unnamed: 9        Unnamed: 10  \n",
      "1  Total Expenditure  Medical Care  Unique Patients**  \n",
      "2       22229.435227   8642.379227                926  \n",
      "3        5186.963899   2315.768899                239  \n",
      "4          61.436611     36.495611                 10  \n",
      "5         105.512009     33.472009                 13  \n",
      "6         362.351961    206.109961                 17  \n",
      "=====================================\n",
      "NH\n",
      "tbl_NH\n"
     ]
    },
    {
     "name": "stderr",
     "output_type": "stream",
     "text": [
      "C:\\Users\\derya\\anaconda3\\lib\\site-packages\\pandas\\core\\generic.py:2872: UserWarning: The spaces in these column names will not be changed. In pandas versions < 0.14, spaces were converted to underscores.\n",
      "  sql.to_sql(\n"
     ]
    },
    {
     "name": "stdout",
     "output_type": "stream",
     "text": [
      "A STATE NAME: NH\n",
      "  FY15 Summary of Expenditures by State           Unnamed: 1  \\\n",
      "1        County/ Congressional District  Veteran Population*   \n",
      "2                               BELKNAP          6085.909701   \n",
      "3                               CARROLL          5415.735542   \n",
      "4                              CHESHIRE          7034.947393   \n",
      "5                                  COOS          3334.621702   \n",
      "6                               GRAFTON          7364.962158   \n",
      "\n",
      "          Unnamed: 2    Unnamed: 9        Unnamed: 10  \n",
      "1  Total Expenditure  Medical Care  Unique Patients**  \n",
      "2       43088.988342  19092.060342               1783  \n",
      "3       27437.051843  11965.193843               1324  \n",
      "4        40447.74185   19365.32885               1807  \n",
      "5       23558.689533  11241.714533               1377  \n",
      "6       54528.491721  28621.509721               2546  \n",
      "=====================================\n",
      "NJ\n",
      "tbl_NJ\n"
     ]
    },
    {
     "name": "stderr",
     "output_type": "stream",
     "text": [
      "C:\\Users\\derya\\anaconda3\\lib\\site-packages\\pandas\\core\\generic.py:2872: UserWarning: The spaces in these column names will not be changed. In pandas versions < 0.14, spaces were converted to underscores.\n",
      "  sql.to_sql(\n"
     ]
    },
    {
     "name": "stdout",
     "output_type": "stream",
     "text": [
      "A STATE NAME: NJ\n",
      "  FY15 Summary of Expenditures by State           Unnamed: 1  \\\n",
      "1        County/ Congressional District  Veteran Population*   \n",
      "2                              ATLANTIC         17102.168289   \n",
      "3                                BERGEN          32245.79699   \n",
      "4                            BURLINGTON         33090.797746   \n",
      "5                                CAMDEN         29723.769066   \n",
      "6                              CAPE MAY          8590.309441   \n",
      "\n",
      "          Unnamed: 2    Unnamed: 9        Unnamed: 10  \n",
      "1  Total Expenditure  Medical Care  Unique Patients**  \n",
      "2       76567.579151  24883.595151               3105  \n",
      "3      148293.858454  53960.048454               6512  \n",
      "4      215797.056006  49560.031236               6199  \n",
      "5      160726.250698  53064.633698               5684  \n",
      "6       35682.700051   9859.915051               1620  \n",
      "=====================================\n",
      "NM\n",
      "tbl_NM\n"
     ]
    },
    {
     "name": "stderr",
     "output_type": "stream",
     "text": [
      "C:\\Users\\derya\\anaconda3\\lib\\site-packages\\pandas\\core\\generic.py:2872: UserWarning: The spaces in these column names will not be changed. In pandas versions < 0.14, spaces were converted to underscores.\n",
      "  sql.to_sql(\n"
     ]
    },
    {
     "name": "stdout",
     "output_type": "stream",
     "text": [
      "A STATE NAME: NM\n",
      "  FY15 Summary of Expenditures by State           Unnamed: 1  \\\n",
      "1        County/ Congressional District  Veteran Population*   \n",
      "2                            BERNALILLO         53445.988514   \n",
      "3                                CATRON           474.210994   \n",
      "4                                CHAVES          5240.021839   \n",
      "5                                CIBOLA          2136.386341   \n",
      "6                                COLFAX          1529.264483   \n",
      "\n",
      "          Unnamed: 2    Unnamed: 9        Unnamed: 10  \n",
      "1  Total Expenditure  Medical Care  Unique Patients**  \n",
      "2       598674.27827  266270.31215              18071  \n",
      "3        4319.748269   1680.349269                196  \n",
      "4       28997.181872  10761.643872               1294  \n",
      "5       20163.398241   9877.431241                720  \n",
      "6       12337.000606   4995.185606                556  \n",
      "=====================================\n",
      "NV\n",
      "tbl_NV\n"
     ]
    },
    {
     "name": "stderr",
     "output_type": "stream",
     "text": [
      "C:\\Users\\derya\\anaconda3\\lib\\site-packages\\pandas\\core\\generic.py:2872: UserWarning: The spaces in these column names will not be changed. In pandas versions < 0.14, spaces were converted to underscores.\n",
      "  sql.to_sql(\n"
     ]
    },
    {
     "name": "stdout",
     "output_type": "stream",
     "text": [
      "A STATE NAME: NV\n",
      "  FY15 Summary of Expenditures by State           Unnamed: 1  \\\n",
      "1        County/ Congressional District  Veteran Population*   \n",
      "2                             CHURCHILL          4197.598695   \n",
      "3                                 CLARK        151168.621575   \n",
      "4                               DOUGLAS          4746.133295   \n",
      "5                                  ELKO          4201.848431   \n",
      "6                             ESMERALDA           163.086844   \n",
      "\n",
      "          Unnamed: 2     Unnamed: 9        Unnamed: 10  \n",
      "1  Total Expenditure   Medical Care  Unique Patients**  \n",
      "2       31816.376275   14269.971275               1265  \n",
      "3     1249042.686358  559457.086218              45465  \n",
      "4       30951.435163   14854.594163               1814  \n",
      "5       19623.283566   10781.099566                866  \n",
      "6          792.36716      522.23416                 43  \n",
      "=====================================\n",
      "NY\n",
      "tbl_NY\n"
     ]
    },
    {
     "name": "stderr",
     "output_type": "stream",
     "text": [
      "C:\\Users\\derya\\anaconda3\\lib\\site-packages\\pandas\\core\\generic.py:2872: UserWarning: The spaces in these column names will not be changed. In pandas versions < 0.14, spaces were converted to underscores.\n",
      "  sql.to_sql(\n"
     ]
    },
    {
     "name": "stdout",
     "output_type": "stream",
     "text": [
      "A STATE NAME: NY\n",
      "  FY15 Summary of Expenditures by State           Unnamed: 1  \\\n",
      "1        County/ Congressional District  Veteran Population*   \n",
      "2                                ALBANY         19076.409524   \n",
      "3                              ALLEGANY          4090.837244   \n",
      "4                                 BRONX         33628.067181   \n",
      "5                                BROOME         14378.965022   \n",
      "6                           CATTARAUGUS          7274.466297   \n",
      "\n",
      "          Unnamed: 2     Unnamed: 9        Unnamed: 10  \n",
      "1  Total Expenditure   Medical Care  Unique Patients**  \n",
      "2      136304.941041   77737.084551               4632  \n",
      "3       32920.421556   16286.535556               1491  \n",
      "4      400073.501028  251550.274878              10709  \n",
      "5       59422.875795   20718.886795               3220  \n",
      "6       51719.446881   22042.638881               2368  \n",
      "=====================================\n",
      "OH\n",
      "tbl_OH\n"
     ]
    },
    {
     "name": "stderr",
     "output_type": "stream",
     "text": [
      "C:\\Users\\derya\\anaconda3\\lib\\site-packages\\pandas\\core\\generic.py:2872: UserWarning: The spaces in these column names will not be changed. In pandas versions < 0.14, spaces were converted to underscores.\n",
      "  sql.to_sql(\n"
     ]
    },
    {
     "name": "stdout",
     "output_type": "stream",
     "text": [
      "A STATE NAME: OH\n",
      "  FY15 Summary of Expenditures by State           Unnamed: 1  \\\n",
      "1        County/ Congressional District  Veteran Population*   \n",
      "2                                 ADAMS          1967.433777   \n",
      "3                                 ALLEN          8128.427508   \n",
      "4                               ASHLAND          3908.018455   \n",
      "5                             ASHTABULA          8800.233067   \n",
      "6                                ATHENS          3999.187909   \n",
      "\n",
      "          Unnamed: 2    Unnamed: 9        Unnamed: 10  \n",
      "1  Total Expenditure  Medical Care  Unique Patients**  \n",
      "2       17785.215961   8983.488961                760  \n",
      "3        41425.78765   15551.63265               1879  \n",
      "4       27060.754878  13331.147878               1298  \n",
      "5       58228.039744  30277.777744               3049  \n",
      "6       34087.625102  14784.778102               1264  \n",
      "=====================================\n",
      "OK\n",
      "tbl_OK\n"
     ]
    },
    {
     "name": "stderr",
     "output_type": "stream",
     "text": [
      "C:\\Users\\derya\\anaconda3\\lib\\site-packages\\pandas\\core\\generic.py:2872: UserWarning: The spaces in these column names will not be changed. In pandas versions < 0.14, spaces were converted to underscores.\n",
      "  sql.to_sql(\n"
     ]
    },
    {
     "name": "stdout",
     "output_type": "stream",
     "text": [
      "A STATE NAME: OK\n",
      "  FY15 Summary of Expenditures by State           Unnamed: 1  \\\n",
      "1        County/ Congressional District  Veteran Population*   \n",
      "2                                 ADAIR           1348.59825   \n",
      "3                               ALFALFA           821.006734   \n",
      "4                                 ATOKA          1371.359977   \n",
      "5                                BEAVER           362.223116   \n",
      "6                               BECKHAM          1673.894878   \n",
      "\n",
      "          Unnamed: 2    Unnamed: 9        Unnamed: 10  \n",
      "1  Total Expenditure  Medical Care  Unique Patients**  \n",
      "2       16914.718164   6054.242164                546  \n",
      "3        1706.118777    592.184777                 83  \n",
      "4        9389.895414   3373.633414                378  \n",
      "5        1388.090685    578.564685                 90  \n",
      "6        7535.494437   2542.839437                303  \n",
      "=====================================\n",
      "OR\n",
      "tbl_OR\n"
     ]
    },
    {
     "name": "stderr",
     "output_type": "stream",
     "text": [
      "C:\\Users\\derya\\anaconda3\\lib\\site-packages\\pandas\\core\\generic.py:2872: UserWarning: The spaces in these column names will not be changed. In pandas versions < 0.14, spaces were converted to underscores.\n",
      "  sql.to_sql(\n"
     ]
    },
    {
     "name": "stdout",
     "output_type": "stream",
     "text": [
      "A STATE NAME: OR\n",
      "  FY15 Summary of Expenditures by State           Unnamed: 1  \\\n",
      "1        County/ Congressional District  Veteran Population*   \n",
      "2                                 BAKER          1938.940844   \n",
      "3                                BENTON          5960.242681   \n",
      "4                             CLACKAMAS         35164.665347   \n",
      "5                               CLATSOP          4278.244927   \n",
      "6                              COLUMBIA          6004.005534   \n",
      "\n",
      "          Unnamed: 2    Unnamed: 9        Unnamed: 10  \n",
      "1  Total Expenditure  Medical Care  Unique Patients**  \n",
      "2       17152.334838   7780.042838                858  \n",
      "3       31899.475721   9708.905721               1260  \n",
      "4      198847.061084  85377.489084               7552  \n",
      "5       30010.088026  13846.025026               1185  \n",
      "6       43543.854607  20229.471607               1691  \n",
      "=====================================\n",
      "PA\n",
      "tbl_PA\n"
     ]
    },
    {
     "name": "stderr",
     "output_type": "stream",
     "text": [
      "C:\\Users\\derya\\anaconda3\\lib\\site-packages\\pandas\\core\\generic.py:2872: UserWarning: The spaces in these column names will not be changed. In pandas versions < 0.14, spaces were converted to underscores.\n",
      "  sql.to_sql(\n"
     ]
    },
    {
     "name": "stdout",
     "output_type": "stream",
     "text": [
      "A STATE NAME: PA\n",
      "  FY15 Summary of Expenditures by State           Unnamed: 1  \\\n",
      "1        County/ Congressional District  Veteran Population*   \n",
      "2                                 ADAMS          9224.528797   \n",
      "3                             ALLEGHENY          87964.86995   \n",
      "4                             ARMSTRONG          5986.419303   \n",
      "5                                BEAVER         16645.529554   \n",
      "6                               BEDFORD          4045.779697   \n",
      "\n",
      "          Unnamed: 2     Unnamed: 9        Unnamed: 10  \n",
      "1  Total Expenditure   Medical Care  Unique Patients**  \n",
      "2       31638.610892   10717.365892               1533  \n",
      "3      627763.830394  352494.127744              21562  \n",
      "4       38757.999932   21648.796932               2135  \n",
      "5       77602.939657   36018.066657               5325  \n",
      "6       29365.907576   16018.895576               1592  \n",
      "=====================================\n"
     ]
    },
    {
     "name": "stderr",
     "output_type": "stream",
     "text": [
      "C:\\Users\\derya\\anaconda3\\lib\\site-packages\\pandas\\core\\generic.py:2872: UserWarning: The spaces in these column names will not be changed. In pandas versions < 0.14, spaces were converted to underscores.\n",
      "  sql.to_sql(\n"
     ]
    },
    {
     "name": "stdout",
     "output_type": "stream",
     "text": [
      "RI\n",
      "tbl_RI\n",
      "A STATE NAME: RI\n",
      "  FY15 Summary of Expenditures by State           Unnamed: 1  \\\n",
      "1        County/ Congressional District  Veteran Population*   \n",
      "2                               BRISTOL          3583.782345   \n",
      "3                                  KENT         13967.900032   \n",
      "4                               NEWPORT          7670.096939   \n",
      "5                            PROVIDENCE         34322.662775   \n",
      "6                            WASHINGTON         10317.455814   \n",
      "\n",
      "          Unnamed: 2     Unnamed: 9        Unnamed: 10  \n",
      "1  Total Expenditure   Medical Care  Unique Patients**  \n",
      "2       28375.571403   15301.815403               1041  \n",
      "3       100466.84026    42741.84326               3934  \n",
      "4       46420.778249   14557.734249               1611  \n",
      "5      316669.983652  156560.856782              10941  \n",
      "6       53604.975366   19711.012366               2180  \n",
      "=====================================\n",
      "SC\n",
      "tbl_SC\n"
     ]
    },
    {
     "name": "stderr",
     "output_type": "stream",
     "text": [
      "C:\\Users\\derya\\anaconda3\\lib\\site-packages\\pandas\\core\\generic.py:2872: UserWarning: The spaces in these column names will not be changed. In pandas versions < 0.14, spaces were converted to underscores.\n",
      "  sql.to_sql(\n"
     ]
    },
    {
     "name": "stdout",
     "output_type": "stream",
     "text": [
      "A STATE NAME: SC\n",
      "  FY15 Summary of Expenditures by State           Unnamed: 1  \\\n",
      "1        County/ Congressional District  Veteran Population*   \n",
      "2                             ABBEVILLE          2175.723347   \n",
      "3                                 AIKEN         15442.141013   \n",
      "4                             ALLENDALE           720.960739   \n",
      "5                              ANDERSON          16255.44315   \n",
      "6                               BAMBERG          1559.109348   \n",
      "\n",
      "          Unnamed: 2    Unnamed: 9        Unnamed: 10  \n",
      "1  Total Expenditure  Medical Care  Unique Patients**  \n",
      "2         15940.3972     5712.6842                764  \n",
      "3      113750.259851  55119.977851               5040  \n",
      "4        5692.922937   2764.418937                218  \n",
      "5        91693.48738   30149.89938               4454  \n",
      "6         9977.77245    3898.63145                399  \n",
      "=====================================\n",
      "SD\n",
      "tbl_SD\n"
     ]
    },
    {
     "name": "stderr",
     "output_type": "stream",
     "text": [
      "C:\\Users\\derya\\anaconda3\\lib\\site-packages\\pandas\\core\\generic.py:2872: UserWarning: The spaces in these column names will not be changed. In pandas versions < 0.14, spaces were converted to underscores.\n",
      "  sql.to_sql(\n"
     ]
    },
    {
     "name": "stdout",
     "output_type": "stream",
     "text": [
      "A STATE NAME: SD\n",
      "  FY15 Summary of Expenditures by State           Unnamed: 1  \\\n",
      "1        County/ Congressional District  Veteran Population*   \n",
      "2                                AURORA           256.540051   \n",
      "3                                BEADLE          1588.488316   \n",
      "4                               BENNETT           169.446421   \n",
      "5                             BON HOMME           733.341411   \n",
      "6                             BROOKINGS            2019.6531   \n",
      "\n",
      "          Unnamed: 2    Unnamed: 9        Unnamed: 10  \n",
      "1  Total Expenditure  Medical Care  Unique Patients**  \n",
      "2        1797.913639    906.332639                 92  \n",
      "3        6906.331451   3490.587451                422  \n",
      "4        2758.023891   1906.568891                110  \n",
      "5        4471.171664   2727.947664                256  \n",
      "6       11951.470187   5834.060187                660  \n",
      "=====================================\n",
      "TN\n",
      "tbl_TN\n"
     ]
    },
    {
     "name": "stderr",
     "output_type": "stream",
     "text": [
      "C:\\Users\\derya\\anaconda3\\lib\\site-packages\\pandas\\core\\generic.py:2872: UserWarning: The spaces in these column names will not be changed. In pandas versions < 0.14, spaces were converted to underscores.\n",
      "  sql.to_sql(\n"
     ]
    },
    {
     "name": "stdout",
     "output_type": "stream",
     "text": [
      "A STATE NAME: TN\n",
      "  FY15 Summary of Expenditures by State           Unnamed: 1  \\\n",
      "1        County/ Congressional District  Veteran Population*   \n",
      "2                              ANDERSON          7837.502587   \n",
      "3                               BEDFORD          3248.658223   \n",
      "4                                BENTON          1747.216428   \n",
      "5                               BLEDSOE            899.65721   \n",
      "6                                BLOUNT         11828.739215   \n",
      "\n",
      "          Unnamed: 2    Unnamed: 9        Unnamed: 10  \n",
      "1  Total Expenditure  Medical Care  Unique Patients**  \n",
      "2       36929.991865  11310.333865               1607  \n",
      "3       23972.765513  11993.091513               1034  \n",
      "4       12852.009899   5208.471899                498  \n",
      "5        5194.624624   2433.644624                300  \n",
      "6       62832.353701  16170.810701               2559  \n",
      "=====================================\n",
      "TX\n",
      "tbl_TX\n"
     ]
    },
    {
     "name": "stderr",
     "output_type": "stream",
     "text": [
      "C:\\Users\\derya\\anaconda3\\lib\\site-packages\\pandas\\core\\generic.py:2872: UserWarning: The spaces in these column names will not be changed. In pandas versions < 0.14, spaces were converted to underscores.\n",
      "  sql.to_sql(\n"
     ]
    },
    {
     "name": "stdout",
     "output_type": "stream",
     "text": [
      "A STATE NAME: TX\n",
      "  FY15 Summary of Expenditures by State           Unnamed: 1  \\\n",
      "1        County/ Congressional District  Veteran Population*   \n",
      "2                              ANDERSON          4993.605004   \n",
      "3                               ANDREWS           810.116528   \n",
      "4                              ANGELINA          6123.708977   \n",
      "5                               ARANSAS          3040.730267   \n",
      "6                                ARCHER           809.964067   \n",
      "\n",
      "          Unnamed: 2    Unnamed: 9        Unnamed: 10  \n",
      "1  Total Expenditure  Medical Care  Unique Patients**  \n",
      "2       30973.578379  10865.085379               1291  \n",
      "3        3293.337021   1324.888021                151  \n",
      "4       48327.181488  18148.261488               2171  \n",
      "5       17352.087857   6263.882857                677  \n",
      "6        3239.542728   1328.665728                177  \n",
      "=====================================\n",
      "UT\n",
      "tbl_UT\n"
     ]
    },
    {
     "name": "stderr",
     "output_type": "stream",
     "text": [
      "C:\\Users\\derya\\anaconda3\\lib\\site-packages\\pandas\\core\\generic.py:2872: UserWarning: The spaces in these column names will not be changed. In pandas versions < 0.14, spaces were converted to underscores.\n",
      "  sql.to_sql(\n"
     ]
    },
    {
     "name": "stdout",
     "output_type": "stream",
     "text": [
      "A STATE NAME: UT\n",
      "  FY15 Summary of Expenditures by State           Unnamed: 1  \\\n",
      "1        County/ Congressional District  Veteran Population*   \n",
      "2                                BEAVER           454.038949   \n",
      "3                             BOX ELDER          2888.195567   \n",
      "4                                 CACHE          4610.074688   \n",
      "5                                CARBON          1742.483243   \n",
      "6                               DAGGETT           109.542417   \n",
      "\n",
      "          Unnamed: 2    Unnamed: 9        Unnamed: 10  \n",
      "1  Total Expenditure  Medical Care  Unique Patients**  \n",
      "2        1545.534892    507.642892                 80  \n",
      "3       15643.149343   7536.328343                655  \n",
      "4       24062.642137   7970.042137                770  \n",
      "5       10539.026593   5352.406593                392  \n",
      "6        1216.939328    905.664328                 42  \n",
      "=====================================\n",
      "VA\n",
      "tbl_VA\n"
     ]
    },
    {
     "name": "stderr",
     "output_type": "stream",
     "text": [
      "C:\\Users\\derya\\anaconda3\\lib\\site-packages\\pandas\\core\\generic.py:2872: UserWarning: The spaces in these column names will not be changed. In pandas versions < 0.14, spaces were converted to underscores.\n",
      "  sql.to_sql(\n"
     ]
    },
    {
     "name": "stdout",
     "output_type": "stream",
     "text": [
      "A STATE NAME: VA\n",
      "  FY15 Summary of Expenditures by State           Unnamed: 1  \\\n",
      "1        County/ Congressional District  Veteran Population*   \n",
      "2                              ACCOMACK          3611.690348   \n",
      "3                             ALBEMARLE          7152.555781   \n",
      "4                             ALLEGHANY          1719.239578   \n",
      "5                                AMELIA          1162.451098   \n",
      "6                               AMHERST          2758.527674   \n",
      "\n",
      "          Unnamed: 2    Unnamed: 9        Unnamed: 10  \n",
      "1  Total Expenditure  Medical Care  Unique Patients**  \n",
      "2       15479.647061   5323.418061                667  \n",
      "3       24989.920232   7313.860232               1026  \n",
      "4        7867.822157   5471.850157                525  \n",
      "5        9278.368292   5050.175292                359  \n",
      "6       14817.421452   6696.216452                734  \n",
      "=====================================\n",
      "VT\n",
      "tbl_VT\n"
     ]
    },
    {
     "name": "stderr",
     "output_type": "stream",
     "text": [
      "C:\\Users\\derya\\anaconda3\\lib\\site-packages\\pandas\\core\\generic.py:2872: UserWarning: The spaces in these column names will not be changed. In pandas versions < 0.14, spaces were converted to underscores.\n",
      "  sql.to_sql(\n"
     ]
    },
    {
     "name": "stdout",
     "output_type": "stream",
     "text": [
      "A STATE NAME: VT\n",
      "  FY15 Summary of Expenditures by State           Unnamed: 1  \\\n",
      "1        County/ Congressional District  Veteran Population*   \n",
      "2                               ADDISON          2268.428465   \n",
      "3                            BENNINGTON          3432.280015   \n",
      "4                             CALEDONIA          2550.775848   \n",
      "5                            CHITTENDEN          9704.387448   \n",
      "6                                 ESSEX            753.21092   \n",
      "\n",
      "          Unnamed: 2    Unnamed: 9        Unnamed: 10  \n",
      "1  Total Expenditure  Medical Care  Unique Patients**  \n",
      "2       11646.875979   4921.235979                677  \n",
      "3       20938.345929  11684.184929               1169  \n",
      "4       19328.839779  10008.559779                884  \n",
      "5       47160.810447  15178.397447               2354  \n",
      "6        6448.168322   3495.148322                306  \n",
      "=====================================\n",
      "WA\n",
      "tbl_WA\n"
     ]
    },
    {
     "name": "stderr",
     "output_type": "stream",
     "text": [
      "C:\\Users\\derya\\anaconda3\\lib\\site-packages\\pandas\\core\\generic.py:2872: UserWarning: The spaces in these column names will not be changed. In pandas versions < 0.14, spaces were converted to underscores.\n",
      "  sql.to_sql(\n"
     ]
    },
    {
     "name": "stdout",
     "output_type": "stream",
     "text": [
      "A STATE NAME: WA\n",
      "  FY15 Summary of Expenditures by State           Unnamed: 1  \\\n",
      "1        County/ Congressional District  Veteran Population*   \n",
      "2                                 ADAMS           904.444258   \n",
      "3                                ASOTIN          2314.175176   \n",
      "4                                BENTON         15443.996775   \n",
      "5                                CHELAN          5879.898712   \n",
      "6                               CLALLAM          9685.584092   \n",
      "\n",
      "          Unnamed: 2    Unnamed: 9        Unnamed: 10  \n",
      "1  Total Expenditure  Medical Care  Unique Patients**  \n",
      "2        3337.021968    891.879968                144  \n",
      "3       12626.355702   4608.339702                679  \n",
      "4       73134.839725  25131.581725               3316  \n",
      "5       26165.002463   8839.992463               1226  \n",
      "6       54246.367439  18041.551439               1980  \n",
      "=====================================\n",
      "WI\n",
      "tbl_WI\n"
     ]
    },
    {
     "name": "stderr",
     "output_type": "stream",
     "text": [
      "C:\\Users\\derya\\anaconda3\\lib\\site-packages\\pandas\\core\\generic.py:2872: UserWarning: The spaces in these column names will not be changed. In pandas versions < 0.14, spaces were converted to underscores.\n",
      "  sql.to_sql(\n"
     ]
    },
    {
     "name": "stdout",
     "output_type": "stream",
     "text": [
      "A STATE NAME: WI\n",
      "  FY15 Summary of Expenditures by State           Unnamed: 1  \\\n",
      "1        County/ Congressional District  Veteran Population*   \n",
      "2                                 ADAMS          2150.956669   \n",
      "3                               ASHLAND          1287.769076   \n",
      "4                                BARRON          3691.117392   \n",
      "5                              BAYFIELD          1697.143546   \n",
      "6                                 BROWN         16890.720354   \n",
      "\n",
      "          Unnamed: 2    Unnamed: 9        Unnamed: 10  \n",
      "1  Total Expenditure  Medical Care  Unique Patients**  \n",
      "2       18551.396182  12033.349182               1054  \n",
      "3         8429.08865    3539.18065                445  \n",
      "4       22670.509821  10317.488821               1319  \n",
      "5        9238.558077   4292.708077                538  \n",
      "6       99629.349901  44895.202901               5904  \n",
      "=====================================\n",
      "WV\n",
      "tbl_WV\n"
     ]
    },
    {
     "name": "stderr",
     "output_type": "stream",
     "text": [
      "C:\\Users\\derya\\anaconda3\\lib\\site-packages\\pandas\\core\\generic.py:2872: UserWarning: The spaces in these column names will not be changed. In pandas versions < 0.14, spaces were converted to underscores.\n",
      "  sql.to_sql(\n"
     ]
    },
    {
     "name": "stdout",
     "output_type": "stream",
     "text": [
      "A STATE NAME: WV\n",
      "  FY15 Summary of Expenditures by State           Unnamed: 1  \\\n",
      "1        County/ Congressional District  Veteran Population*   \n",
      "2                               BARBOUR          1122.804453   \n",
      "3                              BERKELEY          12183.43327   \n",
      "4                                 BOONE           1804.08463   \n",
      "5                               BRAXTON          1425.623074   \n",
      "6                                BROOKE          2326.234905   \n",
      "\n",
      "          Unnamed: 2    Unnamed: 9        Unnamed: 10  \n",
      "1  Total Expenditure  Medical Care  Unique Patients**  \n",
      "2       11956.271665   6328.233665                567  \n",
      "3      496454.402914  97485.531604               4325  \n",
      "4       14004.112798   5068.785798                558  \n",
      "5       15890.256682   9409.999682                637  \n",
      "6        9539.593901   4302.125901                538  \n",
      "=====================================\n",
      "WY\n",
      "tbl_WY\n"
     ]
    },
    {
     "name": "stderr",
     "output_type": "stream",
     "text": [
      "C:\\Users\\derya\\anaconda3\\lib\\site-packages\\pandas\\core\\generic.py:2872: UserWarning: The spaces in these column names will not be changed. In pandas versions < 0.14, spaces were converted to underscores.\n",
      "  sql.to_sql(\n"
     ]
    },
    {
     "name": "stdout",
     "output_type": "stream",
     "text": [
      "A STATE NAME: WY\n",
      "  FY15 Summary of Expenditures by State           Unnamed: 1  \\\n",
      "1        County/ Congressional District  Veteran Population*   \n",
      "2                                ALBANY          2209.470541   \n",
      "3                              BIG HORN           970.095185   \n",
      "4                              CAMPBELL          3334.953149   \n",
      "5                                CARBON           1373.87929   \n",
      "6                              CONVERSE          1184.494128   \n",
      "\n",
      "          Unnamed: 2    Unnamed: 9        Unnamed: 10  \n",
      "1  Total Expenditure  Medical Care  Unique Patients**  \n",
      "2       18754.128863   6133.614863                780  \n",
      "3        5553.819287   3098.129287                381  \n",
      "4       18444.889571  10773.505571               1110  \n",
      "5        8827.915075   5229.666075                415  \n",
      "6        5519.668127   2880.301127                339  \n",
      "=====================================\n",
      "PR\n",
      "tbl_PR\n"
     ]
    },
    {
     "name": "stderr",
     "output_type": "stream",
     "text": [
      "C:\\Users\\derya\\anaconda3\\lib\\site-packages\\pandas\\core\\generic.py:2872: UserWarning: The spaces in these column names will not be changed. In pandas versions < 0.14, spaces were converted to underscores.\n",
      "  sql.to_sql(\n"
     ]
    },
    {
     "name": "stdout",
     "output_type": "stream",
     "text": [
      "A STATE NAME: PR\n",
      "  FY15 Summary of Expenditures by State           Unnamed: 1  \\\n",
      "1        County/ Congressional District  Veteran Population*   \n",
      "2                              ADJUNTAS                  NaN   \n",
      "3                                AGUADA                  NaN   \n",
      "4                             AGUADILLA                  NaN   \n",
      "5                          AGUAS BUENAS                  NaN   \n",
      "6                              AIBONITO                  NaN   \n",
      "\n",
      "          Unnamed: 2    Unnamed: 9        Unnamed: 10  \n",
      "1  Total Expenditure  Medical Care  Unique Patients**  \n",
      "2        6775.329566   2044.093566                273  \n",
      "3       12220.577362   3689.610362                482  \n",
      "4       34460.556067  12608.499067               1176  \n",
      "5        9388.978663   5190.585663                308  \n",
      "6       15641.977829   4722.312829                428  \n",
      "=====================================\n",
      "GU\n",
      "tbl_GU\n"
     ]
    },
    {
     "name": "stderr",
     "output_type": "stream",
     "text": [
      "C:\\Users\\derya\\anaconda3\\lib\\site-packages\\pandas\\core\\generic.py:2872: UserWarning: The spaces in these column names will not be changed. In pandas versions < 0.14, spaces were converted to underscores.\n",
      "  sql.to_sql(\n"
     ]
    },
    {
     "name": "stdout",
     "output_type": "stream",
     "text": [
      "A STATE NAME: GU\n",
      "  FY15 Summary of Expenditures by State           Unnamed: 1  \\\n",
      "1        County/ Congressional District  Veteran Population*   \n",
      "2                                  Guam          9493.483934   \n",
      "3                                   NaN                  NaN   \n",
      "4                                   NaN                  NaN   \n",
      "5                         Guam (Totals)          9493.483934   \n",
      "6                                   NaN                  NaN   \n",
      "\n",
      "          Unnamed: 2    Unnamed: 9        Unnamed: 10 Unnamed: 11  \n",
      "1  Total Expenditure  Medical Care  Unique Patients**         NaN  \n",
      "2          89961.123     20345.981               2934         NaN  \n",
      "3                NaN           NaN                NaN         NaN  \n",
      "4                NaN           NaN                NaN         NaN  \n",
      "5          89961.123     20345.981               2934         NaN  \n",
      "6                NaN           NaN                NaN         NaN  \n",
      "=====================================\n",
      "Data Description\n",
      "tbl_Data Description\n"
     ]
    },
    {
     "name": "stderr",
     "output_type": "stream",
     "text": [
      "C:\\Users\\derya\\anaconda3\\lib\\site-packages\\pandas\\core\\generic.py:2872: UserWarning: The spaces in these column names will not be changed. In pandas versions < 0.14, spaces were converted to underscores.\n",
      "  sql.to_sql(\n"
     ]
    },
    {
     "name": "stdout",
     "output_type": "stream",
     "text": [
      "A STATE NAME: Data Description\n"
     ]
    },
    {
     "ename": "KeyError",
     "evalue": "\"['Unnamed: 3'] not found in axis\"",
     "output_type": "error",
     "traceback": [
      "\u001b[1;31m---------------------------------------------------------------------------\u001b[0m",
      "\u001b[1;31mKeyError\u001b[0m                                  Traceback (most recent call last)",
      "\u001b[1;32m~\\AppData\\Local\\Temp/ipykernel_25012/70452199.py\u001b[0m in \u001b[0;36m<module>\u001b[1;34m\u001b[0m\n\u001b[0;32m     31\u001b[0m         \u001b[1;31m#df.drop([2], axis=0, inplace=True)\u001b[0m\u001b[1;33m\u001b[0m\u001b[1;33m\u001b[0m\u001b[0m\n\u001b[0;32m     32\u001b[0m         \u001b[1;31m#df.drop([3], axis=0, inplace=True)\u001b[0m\u001b[1;33m\u001b[0m\u001b[1;33m\u001b[0m\u001b[0m\n\u001b[1;32m---> 33\u001b[1;33m         \u001b[0mdf\u001b[0m\u001b[1;33m.\u001b[0m\u001b[0mdrop\u001b[0m\u001b[1;33m(\u001b[0m\u001b[1;34m\"Unnamed: 3\"\u001b[0m\u001b[1;33m,\u001b[0m \u001b[0maxis\u001b[0m\u001b[1;33m=\u001b[0m\u001b[1;36m1\u001b[0m\u001b[1;33m,\u001b[0m \u001b[0minplace\u001b[0m\u001b[1;33m=\u001b[0m\u001b[1;32mTrue\u001b[0m\u001b[1;33m)\u001b[0m\u001b[1;33m\u001b[0m\u001b[1;33m\u001b[0m\u001b[0m\n\u001b[0m\u001b[0;32m     34\u001b[0m         \u001b[0mdf\u001b[0m\u001b[1;33m.\u001b[0m\u001b[0mdrop\u001b[0m\u001b[1;33m(\u001b[0m\u001b[1;34m\"Unnamed: 4\"\u001b[0m\u001b[1;33m,\u001b[0m \u001b[0maxis\u001b[0m\u001b[1;33m=\u001b[0m\u001b[1;36m1\u001b[0m\u001b[1;33m,\u001b[0m \u001b[0minplace\u001b[0m\u001b[1;33m=\u001b[0m\u001b[1;32mTrue\u001b[0m\u001b[1;33m)\u001b[0m\u001b[1;33m\u001b[0m\u001b[1;33m\u001b[0m\u001b[0m\n\u001b[0;32m     35\u001b[0m         \u001b[0mdf\u001b[0m\u001b[1;33m.\u001b[0m\u001b[0mdrop\u001b[0m\u001b[1;33m(\u001b[0m\u001b[1;34m\"Unnamed: 5\"\u001b[0m\u001b[1;33m,\u001b[0m \u001b[0maxis\u001b[0m\u001b[1;33m=\u001b[0m\u001b[1;36m1\u001b[0m\u001b[1;33m,\u001b[0m \u001b[0minplace\u001b[0m\u001b[1;33m=\u001b[0m\u001b[1;32mTrue\u001b[0m\u001b[1;33m)\u001b[0m\u001b[1;33m\u001b[0m\u001b[1;33m\u001b[0m\u001b[0m\n",
      "\u001b[1;32m~\\anaconda3\\lib\\site-packages\\pandas\\util\\_decorators.py\u001b[0m in \u001b[0;36mwrapper\u001b[1;34m(*args, **kwargs)\u001b[0m\n\u001b[0;32m    309\u001b[0m                     \u001b[0mstacklevel\u001b[0m\u001b[1;33m=\u001b[0m\u001b[0mstacklevel\u001b[0m\u001b[1;33m,\u001b[0m\u001b[1;33m\u001b[0m\u001b[1;33m\u001b[0m\u001b[0m\n\u001b[0;32m    310\u001b[0m                 )\n\u001b[1;32m--> 311\u001b[1;33m             \u001b[1;32mreturn\u001b[0m \u001b[0mfunc\u001b[0m\u001b[1;33m(\u001b[0m\u001b[1;33m*\u001b[0m\u001b[0margs\u001b[0m\u001b[1;33m,\u001b[0m \u001b[1;33m**\u001b[0m\u001b[0mkwargs\u001b[0m\u001b[1;33m)\u001b[0m\u001b[1;33m\u001b[0m\u001b[1;33m\u001b[0m\u001b[0m\n\u001b[0m\u001b[0;32m    312\u001b[0m \u001b[1;33m\u001b[0m\u001b[0m\n\u001b[0;32m    313\u001b[0m         \u001b[1;32mreturn\u001b[0m \u001b[0mwrapper\u001b[0m\u001b[1;33m\u001b[0m\u001b[1;33m\u001b[0m\u001b[0m\n",
      "\u001b[1;32m~\\anaconda3\\lib\\site-packages\\pandas\\core\\frame.py\u001b[0m in \u001b[0;36mdrop\u001b[1;34m(self, labels, axis, index, columns, level, inplace, errors)\u001b[0m\n\u001b[0;32m   4904\u001b[0m                 \u001b[0mweight\u001b[0m  \u001b[1;36m1.0\u001b[0m     \u001b[1;36m0.8\u001b[0m\u001b[1;33m\u001b[0m\u001b[1;33m\u001b[0m\u001b[0m\n\u001b[0;32m   4905\u001b[0m         \"\"\"\n\u001b[1;32m-> 4906\u001b[1;33m         return super().drop(\n\u001b[0m\u001b[0;32m   4907\u001b[0m             \u001b[0mlabels\u001b[0m\u001b[1;33m=\u001b[0m\u001b[0mlabels\u001b[0m\u001b[1;33m,\u001b[0m\u001b[1;33m\u001b[0m\u001b[1;33m\u001b[0m\u001b[0m\n\u001b[0;32m   4908\u001b[0m             \u001b[0maxis\u001b[0m\u001b[1;33m=\u001b[0m\u001b[0maxis\u001b[0m\u001b[1;33m,\u001b[0m\u001b[1;33m\u001b[0m\u001b[1;33m\u001b[0m\u001b[0m\n",
      "\u001b[1;32m~\\anaconda3\\lib\\site-packages\\pandas\\core\\generic.py\u001b[0m in \u001b[0;36mdrop\u001b[1;34m(self, labels, axis, index, columns, level, inplace, errors)\u001b[0m\n\u001b[0;32m   4148\u001b[0m         \u001b[1;32mfor\u001b[0m \u001b[0maxis\u001b[0m\u001b[1;33m,\u001b[0m \u001b[0mlabels\u001b[0m \u001b[1;32min\u001b[0m \u001b[0maxes\u001b[0m\u001b[1;33m.\u001b[0m\u001b[0mitems\u001b[0m\u001b[1;33m(\u001b[0m\u001b[1;33m)\u001b[0m\u001b[1;33m:\u001b[0m\u001b[1;33m\u001b[0m\u001b[1;33m\u001b[0m\u001b[0m\n\u001b[0;32m   4149\u001b[0m             \u001b[1;32mif\u001b[0m \u001b[0mlabels\u001b[0m \u001b[1;32mis\u001b[0m \u001b[1;32mnot\u001b[0m \u001b[1;32mNone\u001b[0m\u001b[1;33m:\u001b[0m\u001b[1;33m\u001b[0m\u001b[1;33m\u001b[0m\u001b[0m\n\u001b[1;32m-> 4150\u001b[1;33m                 \u001b[0mobj\u001b[0m \u001b[1;33m=\u001b[0m \u001b[0mobj\u001b[0m\u001b[1;33m.\u001b[0m\u001b[0m_drop_axis\u001b[0m\u001b[1;33m(\u001b[0m\u001b[0mlabels\u001b[0m\u001b[1;33m,\u001b[0m \u001b[0maxis\u001b[0m\u001b[1;33m,\u001b[0m \u001b[0mlevel\u001b[0m\u001b[1;33m=\u001b[0m\u001b[0mlevel\u001b[0m\u001b[1;33m,\u001b[0m \u001b[0merrors\u001b[0m\u001b[1;33m=\u001b[0m\u001b[0merrors\u001b[0m\u001b[1;33m)\u001b[0m\u001b[1;33m\u001b[0m\u001b[1;33m\u001b[0m\u001b[0m\n\u001b[0m\u001b[0;32m   4151\u001b[0m \u001b[1;33m\u001b[0m\u001b[0m\n\u001b[0;32m   4152\u001b[0m         \u001b[1;32mif\u001b[0m \u001b[0minplace\u001b[0m\u001b[1;33m:\u001b[0m\u001b[1;33m\u001b[0m\u001b[1;33m\u001b[0m\u001b[0m\n",
      "\u001b[1;32m~\\anaconda3\\lib\\site-packages\\pandas\\core\\generic.py\u001b[0m in \u001b[0;36m_drop_axis\u001b[1;34m(self, labels, axis, level, errors)\u001b[0m\n\u001b[0;32m   4183\u001b[0m                 \u001b[0mnew_axis\u001b[0m \u001b[1;33m=\u001b[0m \u001b[0maxis\u001b[0m\u001b[1;33m.\u001b[0m\u001b[0mdrop\u001b[0m\u001b[1;33m(\u001b[0m\u001b[0mlabels\u001b[0m\u001b[1;33m,\u001b[0m \u001b[0mlevel\u001b[0m\u001b[1;33m=\u001b[0m\u001b[0mlevel\u001b[0m\u001b[1;33m,\u001b[0m \u001b[0merrors\u001b[0m\u001b[1;33m=\u001b[0m\u001b[0merrors\u001b[0m\u001b[1;33m)\u001b[0m\u001b[1;33m\u001b[0m\u001b[1;33m\u001b[0m\u001b[0m\n\u001b[0;32m   4184\u001b[0m             \u001b[1;32melse\u001b[0m\u001b[1;33m:\u001b[0m\u001b[1;33m\u001b[0m\u001b[1;33m\u001b[0m\u001b[0m\n\u001b[1;32m-> 4185\u001b[1;33m                 \u001b[0mnew_axis\u001b[0m \u001b[1;33m=\u001b[0m \u001b[0maxis\u001b[0m\u001b[1;33m.\u001b[0m\u001b[0mdrop\u001b[0m\u001b[1;33m(\u001b[0m\u001b[0mlabels\u001b[0m\u001b[1;33m,\u001b[0m \u001b[0merrors\u001b[0m\u001b[1;33m=\u001b[0m\u001b[0merrors\u001b[0m\u001b[1;33m)\u001b[0m\u001b[1;33m\u001b[0m\u001b[1;33m\u001b[0m\u001b[0m\n\u001b[0m\u001b[0;32m   4186\u001b[0m             \u001b[0mresult\u001b[0m \u001b[1;33m=\u001b[0m \u001b[0mself\u001b[0m\u001b[1;33m.\u001b[0m\u001b[0mreindex\u001b[0m\u001b[1;33m(\u001b[0m\u001b[1;33m**\u001b[0m\u001b[1;33m{\u001b[0m\u001b[0maxis_name\u001b[0m\u001b[1;33m:\u001b[0m \u001b[0mnew_axis\u001b[0m\u001b[1;33m}\u001b[0m\u001b[1;33m)\u001b[0m\u001b[1;33m\u001b[0m\u001b[1;33m\u001b[0m\u001b[0m\n\u001b[0;32m   4187\u001b[0m \u001b[1;33m\u001b[0m\u001b[0m\n",
      "\u001b[1;32m~\\anaconda3\\lib\\site-packages\\pandas\\core\\indexes\\base.py\u001b[0m in \u001b[0;36mdrop\u001b[1;34m(self, labels, errors)\u001b[0m\n\u001b[0;32m   6015\u001b[0m         \u001b[1;32mif\u001b[0m \u001b[0mmask\u001b[0m\u001b[1;33m.\u001b[0m\u001b[0many\u001b[0m\u001b[1;33m(\u001b[0m\u001b[1;33m)\u001b[0m\u001b[1;33m:\u001b[0m\u001b[1;33m\u001b[0m\u001b[1;33m\u001b[0m\u001b[0m\n\u001b[0;32m   6016\u001b[0m             \u001b[1;32mif\u001b[0m \u001b[0merrors\u001b[0m \u001b[1;33m!=\u001b[0m \u001b[1;34m\"ignore\"\u001b[0m\u001b[1;33m:\u001b[0m\u001b[1;33m\u001b[0m\u001b[1;33m\u001b[0m\u001b[0m\n\u001b[1;32m-> 6017\u001b[1;33m                 \u001b[1;32mraise\u001b[0m \u001b[0mKeyError\u001b[0m\u001b[1;33m(\u001b[0m\u001b[1;34mf\"{labels[mask]} not found in axis\"\u001b[0m\u001b[1;33m)\u001b[0m\u001b[1;33m\u001b[0m\u001b[1;33m\u001b[0m\u001b[0m\n\u001b[0m\u001b[0;32m   6018\u001b[0m             \u001b[0mindexer\u001b[0m \u001b[1;33m=\u001b[0m \u001b[0mindexer\u001b[0m\u001b[1;33m[\u001b[0m\u001b[1;33m~\u001b[0m\u001b[0mmask\u001b[0m\u001b[1;33m]\u001b[0m\u001b[1;33m\u001b[0m\u001b[1;33m\u001b[0m\u001b[0m\n\u001b[0;32m   6019\u001b[0m         \u001b[1;32mreturn\u001b[0m \u001b[0mself\u001b[0m\u001b[1;33m.\u001b[0m\u001b[0mdelete\u001b[0m\u001b[1;33m(\u001b[0m\u001b[0mindexer\u001b[0m\u001b[1;33m)\u001b[0m\u001b[1;33m\u001b[0m\u001b[1;33m\u001b[0m\u001b[0m\n",
      "\u001b[1;31mKeyError\u001b[0m: \"['Unnamed: 3'] not found in axis\""
     ]
    }
   ],
   "source": [
    "#For loop to get the sheet name for excel file\n",
    "for sheet_name in xls.sheet_names:\n",
    "    \n",
    "    #print the sheet name\n",
    "    print(sheet_name)\n",
    "    \n",
    "    #set the table name \n",
    "    sqlite_table = \"tbl_\"+sheet_name\n",
    "    \n",
    "    #print name of the table\n",
    "    print(sqlite_table)\n",
    "    \n",
    "    #read the excel sheet in the pandas dataframe\n",
    "    #with the argument sheet_name.\n",
    "    df = pd.read_excel(xls_file_name, sheet_name=sheet_name, index_col=None)\n",
    "    \n",
    "    if (sheet_name == 'State Level Expenditures'):\n",
    "        print('SLE_DERYA',sheet_name)\n",
    "        df.drop([0,2,4], axis=0, inplace=True)\n",
    "        #df.drop([2], axis=0, inplace=True)\n",
    "        #df.drop([3], axis=0, inplace=True)\n",
    "        df.drop(\"Unnamed: 3\", axis=1, inplace=True)\n",
    "        df.drop(\"Unnamed: 4\", axis=1, inplace=True)\n",
    "        df.drop(\"Unnamed: 5\", axis=1, inplace=True)\n",
    "        df.drop(\"Unnamed: 6\", axis=1, inplace=True)\n",
    "        df.drop(\"Unnamed: 7\", axis=1, inplace=True)\n",
    "        df.drop(\"Unnamed: 8\", axis=1, inplace=True)\n",
    "    else:\n",
    "        print('A STATE NAME:',sheet_name)\n",
    "        df.drop([0], axis=0, inplace=True)\n",
    "        #df.drop([2], axis=0, inplace=True)\n",
    "        #df.drop([3], axis=0, inplace=True)\n",
    "        df.drop(\"Unnamed: 3\", axis=1, inplace=True)\n",
    "        df.drop(\"Unnamed: 4\", axis=1, inplace=True)\n",
    "        df.drop(\"Unnamed: 5\", axis=1, inplace=True)\n",
    "        df.drop(\"Unnamed: 6\", axis=1, inplace=True)\n",
    "        df.drop(\"Unnamed: 7\", axis=1, inplace=True)\n",
    "        df.drop(\"Unnamed: 8\", axis=1, inplace=True)\n",
    "\n",
    "    # print top 10 rows from dataframe\n",
    "    print(df.head(6))\n",
    "\n",
    "    print(\"=====================================\")\n",
    "    \n",
    "    #create SQLite database connection\n",
    "    conn = sqlite3.connect(sql_file_name)\n",
    "    \n",
    "    #store data into SQLite database table\n",
    "    df.to_sql(sqlite_table, conn, if_exists='append', index=False)\n",
    "    \n",
    "    #close SQLite database connection\n",
    "    conn.close()"
   ]
  },
  {
   "cell_type": "code",
   "execution_count": 6,
   "id": "5667cdfa",
   "metadata": {},
   "outputs": [
    {
     "data": {
      "text/html": [
       "<div>\n",
       "<style scoped>\n",
       "    .dataframe tbody tr th:only-of-type {\n",
       "        vertical-align: middle;\n",
       "    }\n",
       "\n",
       "    .dataframe tbody tr th {\n",
       "        vertical-align: top;\n",
       "    }\n",
       "\n",
       "    .dataframe thead th {\n",
       "        text-align: right;\n",
       "    }\n",
       "</style>\n",
       "<table border=\"1\" class=\"dataframe\">\n",
       "  <thead>\n",
       "    <tr style=\"text-align: right;\">\n",
       "      <th></th>\n",
       "      <th>Note on Data</th>\n",
       "    </tr>\n",
       "  </thead>\n",
       "  <tbody>\n",
       "    <tr>\n",
       "      <th>1</th>\n",
       "      <td>(a) Other sources may show Obligations or Net ...</td>\n",
       "    </tr>\n",
       "    <tr>\n",
       "      <th>2</th>\n",
       "      <td>(b) GDX contains expenditures for all 50 state...</td>\n",
       "    </tr>\n",
       "    <tr>\n",
       "      <th>3</th>\n",
       "      <td>(c) Other sources may include programs that ar...</td>\n",
       "    </tr>\n",
       "    <tr>\n",
       "      <th>4</th>\n",
       "      <td>NaN</td>\n",
       "    </tr>\n",
       "    <tr>\n",
       "      <th>5</th>\n",
       "      <td>Introduction</td>\n",
       "    </tr>\n",
       "    <tr>\n",
       "      <th>6</th>\n",
       "      <td>Each Fiscal Year (FY), the Department of Veter...</td>\n",
       "    </tr>\n",
       "    <tr>\n",
       "      <th>7</th>\n",
       "      <td>Veteran Population</td>\n",
       "    </tr>\n",
       "    <tr>\n",
       "      <th>8</th>\n",
       "      <td>As of FY 2014, the estimated Veteran populatio...</td>\n",
       "    </tr>\n",
       "    <tr>\n",
       "      <th>9</th>\n",
       "      <td>Compensation and Pension</td>\n",
       "    </tr>\n",
       "    <tr>\n",
       "      <th>10</th>\n",
       "      <td>The Compensation and Pension (C&amp;P) category in...</td>\n",
       "    </tr>\n",
       "  </tbody>\n",
       "</table>\n",
       "</div>"
      ],
      "text/plain": [
       "                                         Note on Data\n",
       "1   (a) Other sources may show Obligations or Net ...\n",
       "2   (b) GDX contains expenditures for all 50 state...\n",
       "3   (c) Other sources may include programs that ar...\n",
       "4                                                 NaN\n",
       "5                                        Introduction\n",
       "6   Each Fiscal Year (FY), the Department of Veter...\n",
       "7                                  Veteran Population\n",
       "8   As of FY 2014, the estimated Veteran populatio...\n",
       "9                           Compensation and Pension \n",
       "10  The Compensation and Pension (C&P) category in..."
      ]
     },
     "execution_count": 6,
     "metadata": {},
     "output_type": "execute_result"
    }
   ],
   "source": [
    "df.head(10)"
   ]
  },
  {
   "cell_type": "code",
   "execution_count": 7,
   "id": "58c1705d",
   "metadata": {},
   "outputs": [],
   "source": [
    "df.to_csv('Annual_Expenditures/GDX_FY15.csv')"
   ]
  },
  {
   "cell_type": "code",
   "execution_count": null,
   "id": "7c369186",
   "metadata": {},
   "outputs": [],
   "source": []
  }
 ],
 "metadata": {
  "kernelspec": {
   "display_name": "Python 3 (ipykernel)",
   "language": "python",
   "name": "python3"
  },
  "language_info": {
   "codemirror_mode": {
    "name": "ipython",
    "version": 3
   },
   "file_extension": ".py",
   "mimetype": "text/x-python",
   "name": "python",
   "nbconvert_exporter": "python",
   "pygments_lexer": "ipython3",
   "version": "3.9.7"
  }
 },
 "nbformat": 4,
 "nbformat_minor": 5
}
